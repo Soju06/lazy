{
 "cells": [
  {
   "cell_type": "code",
   "execution_count": 1,
   "metadata": {},
   "outputs": [
    {
     "name": "stdout",
     "output_type": "stream",
     "text": [
      "Connected to server\n",
      "index out of range\n",
      "Connected to server\n",
      "index out of range\n",
      "Connected to server\n",
      "index out of range\n",
      "Connected to server\n"
     ]
    }
   ],
   "source": [
    "import cv2\n",
    "import socket\n",
    "\n",
    "import numpy as np\n",
    "from time import sleep\n",
    "\n",
    "server_ip = \"10.0.0.26\"\n",
    "server_port = 1024\n",
    "display_width = 128\n",
    "display_height = 64\n",
    "scale = 2\n",
    "\n",
    "display_buffer_size = display_width * display_height // 8\n",
    "\n",
    "def bitmap_binary_to_rgb(binary: bytes):\n",
    "    buffer = bytearray(display_width * display_height * 3)\n",
    "    x = 0\n",
    "    y = 0\n",
    "\n",
    "    while x < display_width:\n",
    "        while y < display_height:\n",
    "            bit = binary[x + (y // 8) * display_width] & (1 << (y % 8))\n",
    "            buffer[(x + (y * display_width)) * 3] = 255 if bit else 0\n",
    "            buffer[(x + (y * display_width)) * 3 + 1] = 255 if bit else 0\n",
    "            buffer[(x + (y * display_width)) * 3 + 2] = 255 if bit else 0\n",
    "            y += 1\n",
    "\n",
    "        x += 1\n",
    "        y = 0\n",
    "\n",
    "    return bytes(buffer)\n",
    "\n",
    "sock = socket.socket(socket.AF_INET, socket.SOCK_STREAM)\n",
    "\n",
    "while True:\n",
    "    try:\n",
    "        sock.connect((server_ip, server_port))\n",
    "        print(\"Connected to server\")\n",
    "\n",
    "        while True:\n",
    "            sock.send(b\"\\x00\")\n",
    "            data = np.frombuffer(bitmap_binary_to_rgb(sock.recv(display_buffer_size)), dtype=np.uint8)\n",
    "            data = data.reshape((display_height, display_width, 3))\n",
    "            data = cv2.resize(data, (display_width * scale, display_height * scale), interpolation=cv2.INTER_NEAREST)\n",
    "            \n",
    "            cv2.imshow(\"Display\", data)\n",
    "            \n",
    "            if cv2.waitKey(1) & 0xFF == ord('q'):\n",
    "                break\n",
    "\n",
    "            sleep(1 / 144)\n",
    "    except KeyboardInterrupt:\n",
    "        pass\n",
    "    except Exception as e:\n",
    "        print(e)\n",
    "        sock.close()\n",
    "        sock = socket.socket(socket.AF_INET, socket.SOCK_STREAM)\n",
    "\n"
   ]
  }
 ],
 "metadata": {
  "kernelspec": {
   "display_name": "pt310",
   "language": "python",
   "name": "python3"
  },
  "language_info": {
   "codemirror_mode": {
    "name": "ipython",
    "version": 3
   },
   "file_extension": ".py",
   "mimetype": "text/x-python",
   "name": "python",
   "nbconvert_exporter": "python",
   "pygments_lexer": "ipython3",
   "version": "3.10.13"
  }
 },
 "nbformat": 4,
 "nbformat_minor": 2
}
